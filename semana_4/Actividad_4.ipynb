{
 "cells": [
  {
   "cell_type": "code",
   "execution_count": null,
   "id": "d44114b5-8ec3-45fe-a594-375f70914745",
   "metadata": {
    "id": "d44114b5-8ec3-45fe-a594-375f70914745",
    "outputId": "a352adf1-f5a5-4482-9340-83364b9069c0",
    "scrolled": true
   },
   "outputs": [
    {
     "data": {
      "text/html": [
       "<div>\n",
       "<style scoped>\n",
       "    .dataframe tbody tr th:only-of-type {\n",
       "        vertical-align: middle;\n",
       "    }\n",
       "\n",
       "    .dataframe tbody tr th {\n",
       "        vertical-align: top;\n",
       "    }\n",
       "\n",
       "    .dataframe thead th {\n",
       "        text-align: right;\n",
       "    }\n",
       "</style>\n",
       "<table border=\"1\" class=\"dataframe\">\n",
       "  <thead>\n",
       "    <tr style=\"text-align: right;\">\n",
       "      <th></th>\n",
       "      <th>edad</th>\n",
       "      <th>horas_ejercicio</th>\n",
       "      <th>peso</th>\n",
       "      <th>estres</th>\n",
       "      <th>ingresos</th>\n",
       "      <th>horas_tv</th>\n",
       "      <th>presion_arterial</th>\n",
       "    </tr>\n",
       "  </thead>\n",
       "  <tbody>\n",
       "    <tr>\n",
       "      <th>0</th>\n",
       "      <td>58</td>\n",
       "      <td>7</td>\n",
       "      <td>81</td>\n",
       "      <td>1</td>\n",
       "      <td>21150</td>\n",
       "      <td>12</td>\n",
       "      <td>73.83</td>\n",
       "    </tr>\n",
       "    <tr>\n",
       "      <th>1</th>\n",
       "      <td>48</td>\n",
       "      <td>2</td>\n",
       "      <td>55</td>\n",
       "      <td>1</td>\n",
       "      <td>94740</td>\n",
       "      <td>22</td>\n",
       "      <td>82.26</td>\n",
       "    </tr>\n",
       "    <tr>\n",
       "      <th>2</th>\n",
       "      <td>34</td>\n",
       "      <td>2</td>\n",
       "      <td>81</td>\n",
       "      <td>3</td>\n",
       "      <td>86617</td>\n",
       "      <td>24</td>\n",
       "      <td>90.47</td>\n",
       "    </tr>\n",
       "    <tr>\n",
       "      <th>3</th>\n",
       "      <td>62</td>\n",
       "      <td>0</td>\n",
       "      <td>53</td>\n",
       "      <td>6</td>\n",
       "      <td>36896</td>\n",
       "      <td>34</td>\n",
       "      <td>93.49</td>\n",
       "    </tr>\n",
       "    <tr>\n",
       "      <th>4</th>\n",
       "      <td>27</td>\n",
       "      <td>4</td>\n",
       "      <td>60</td>\n",
       "      <td>7</td>\n",
       "      <td>66175</td>\n",
       "      <td>29</td>\n",
       "      <td>65.74</td>\n",
       "    </tr>\n",
       "  </tbody>\n",
       "</table>\n",
       "</div>"
      ],
      "text/plain": [
       "   edad  horas_ejercicio  peso  estres  ingresos  horas_tv  presion_arterial\n",
       "0    58                7    81       1     21150        12             73.83\n",
       "1    48                2    55       1     94740        22             82.26\n",
       "2    34                2    81       3     86617        24             90.47\n",
       "3    62                0    53       6     36896        34             93.49\n",
       "4    27                4    60       7     66175        29             65.74"
      ]
     },
     "execution_count": 2,
     "metadata": {},
     "output_type": "execute_result"
    }
   ],
   "source": [
    "import pandas as pd\n",
    "\n",
    "df = pd.read_csv(\"dataset_regresion_multiple.csv\", sep=\";\")\n",
    "df.head()\n"
   ]
  },
  {
   "cell_type": "code",
   "execution_count": null,
   "id": "30873d27-df95-44b5-b3b9-ebe6011f9f72",
   "metadata": {
    "id": "30873d27-df95-44b5-b3b9-ebe6011f9f72",
    "outputId": "951220f0-21f9-4612-fe27-56ec8f40af88"
   },
   "outputs": [
    {
     "data": {
      "text/html": [
       "<div>\n",
       "<style scoped>\n",
       "    .dataframe tbody tr th:only-of-type {\n",
       "        vertical-align: middle;\n",
       "    }\n",
       "\n",
       "    .dataframe tbody tr th {\n",
       "        vertical-align: top;\n",
       "    }\n",
       "\n",
       "    .dataframe thead th {\n",
       "        text-align: right;\n",
       "    }\n",
       "</style>\n",
       "<table border=\"1\" class=\"dataframe\">\n",
       "  <thead>\n",
       "    <tr style=\"text-align: right;\">\n",
       "      <th></th>\n",
       "      <th>mean</th>\n",
       "      <th>min</th>\n",
       "      <th>max</th>\n",
       "    </tr>\n",
       "  </thead>\n",
       "  <tbody>\n",
       "    <tr>\n",
       "      <th>edad</th>\n",
       "      <td>41.600</td>\n",
       "      <td>20.00</td>\n",
       "      <td>64.00</td>\n",
       "    </tr>\n",
       "    <tr>\n",
       "      <th>horas_ejercicio</th>\n",
       "      <td>4.370</td>\n",
       "      <td>0.00</td>\n",
       "      <td>9.00</td>\n",
       "    </tr>\n",
       "    <tr>\n",
       "      <th>peso</th>\n",
       "      <td>73.280</td>\n",
       "      <td>50.00</td>\n",
       "      <td>99.00</td>\n",
       "    </tr>\n",
       "    <tr>\n",
       "      <th>estres</th>\n",
       "      <td>4.700</td>\n",
       "      <td>1.00</td>\n",
       "      <td>9.00</td>\n",
       "    </tr>\n",
       "    <tr>\n",
       "      <th>ingresos</th>\n",
       "      <td>59778.350</td>\n",
       "      <td>20412.00</td>\n",
       "      <td>99605.00</td>\n",
       "    </tr>\n",
       "    <tr>\n",
       "      <th>horas_tv</th>\n",
       "      <td>19.760</td>\n",
       "      <td>0.00</td>\n",
       "      <td>39.00</td>\n",
       "    </tr>\n",
       "    <tr>\n",
       "      <th>presion_arterial</th>\n",
       "      <td>85.395</td>\n",
       "      <td>38.14</td>\n",
       "      <td>137.27</td>\n",
       "    </tr>\n",
       "  </tbody>\n",
       "</table>\n",
       "</div>"
      ],
      "text/plain": [
       "                       mean       min       max\n",
       "edad                 41.600     20.00     64.00\n",
       "horas_ejercicio       4.370      0.00      9.00\n",
       "peso                 73.280     50.00     99.00\n",
       "estres                4.700      1.00      9.00\n",
       "ingresos          59778.350  20412.00  99605.00\n",
       "horas_tv             19.760      0.00     39.00\n",
       "presion_arterial     85.395     38.14    137.27"
      ]
     },
     "execution_count": 3,
     "metadata": {},
     "output_type": "execute_result"
    }
   ],
   "source": [
    "num = df.select_dtypes(include='number')\n",
    "resumen = num.describe().T.loc[:, ['mean','min','max']]\n",
    "resumen  # medias, mínimos y máximos por columna\n"
   ]
  },
  {
   "cell_type": "code",
   "execution_count": null,
   "id": "22eb23ff-6ea9-4478-a0bf-c0792915b7ea",
   "metadata": {
    "id": "22eb23ff-6ea9-4478-a0bf-c0792915b7ea",
    "outputId": "a40b8fae-0886-4f40-ed84-3fd15292c277"
   },
   "outputs": [
    {
     "data": {
      "text/html": [
       "<div>\n",
       "<style scoped>\n",
       "    .dataframe tbody tr th:only-of-type {\n",
       "        vertical-align: middle;\n",
       "    }\n",
       "\n",
       "    .dataframe tbody tr th {\n",
       "        vertical-align: top;\n",
       "    }\n",
       "\n",
       "    .dataframe thead th {\n",
       "        text-align: right;\n",
       "    }\n",
       "</style>\n",
       "<table border=\"1\" class=\"dataframe\">\n",
       "  <thead>\n",
       "    <tr style=\"text-align: right;\">\n",
       "      <th></th>\n",
       "      <th>edad</th>\n",
       "      <th>horas_ejercicio</th>\n",
       "      <th>peso</th>\n",
       "      <th>estres</th>\n",
       "      <th>ingresos</th>\n",
       "      <th>horas_tv</th>\n",
       "      <th>presion_arterial</th>\n",
       "    </tr>\n",
       "  </thead>\n",
       "  <tbody>\n",
       "    <tr>\n",
       "      <th>edad</th>\n",
       "      <td>1.000000</td>\n",
       "      <td>-0.195928</td>\n",
       "      <td>-0.000361</td>\n",
       "      <td>-0.174863</td>\n",
       "      <td>-0.114863</td>\n",
       "      <td>0.139984</td>\n",
       "      <td>0.418731</td>\n",
       "    </tr>\n",
       "    <tr>\n",
       "      <th>horas_ejercicio</th>\n",
       "      <td>-0.195928</td>\n",
       "      <td>1.000000</td>\n",
       "      <td>-0.021882</td>\n",
       "      <td>-0.041216</td>\n",
       "      <td>-0.005404</td>\n",
       "      <td>0.058045</td>\n",
       "      <td>-0.358865</td>\n",
       "    </tr>\n",
       "    <tr>\n",
       "      <th>peso</th>\n",
       "      <td>-0.000361</td>\n",
       "      <td>-0.021882</td>\n",
       "      <td>1.000000</td>\n",
       "      <td>0.056342</td>\n",
       "      <td>-0.018638</td>\n",
       "      <td>0.012098</td>\n",
       "      <td>0.588843</td>\n",
       "    </tr>\n",
       "    <tr>\n",
       "      <th>estres</th>\n",
       "      <td>-0.174863</td>\n",
       "      <td>-0.041216</td>\n",
       "      <td>0.056342</td>\n",
       "      <td>1.000000</td>\n",
       "      <td>-0.079145</td>\n",
       "      <td>-0.130028</td>\n",
       "      <td>0.366368</td>\n",
       "    </tr>\n",
       "    <tr>\n",
       "      <th>ingresos</th>\n",
       "      <td>-0.114863</td>\n",
       "      <td>-0.005404</td>\n",
       "      <td>-0.018638</td>\n",
       "      <td>-0.079145</td>\n",
       "      <td>1.000000</td>\n",
       "      <td>-0.034992</td>\n",
       "      <td>-0.009394</td>\n",
       "    </tr>\n",
       "    <tr>\n",
       "      <th>horas_tv</th>\n",
       "      <td>0.139984</td>\n",
       "      <td>0.058045</td>\n",
       "      <td>0.012098</td>\n",
       "      <td>-0.130028</td>\n",
       "      <td>-0.034992</td>\n",
       "      <td>1.000000</td>\n",
       "      <td>0.040789</td>\n",
       "    </tr>\n",
       "    <tr>\n",
       "      <th>presion_arterial</th>\n",
       "      <td>0.418731</td>\n",
       "      <td>-0.358865</td>\n",
       "      <td>0.588843</td>\n",
       "      <td>0.366368</td>\n",
       "      <td>-0.009394</td>\n",
       "      <td>0.040789</td>\n",
       "      <td>1.000000</td>\n",
       "    </tr>\n",
       "  </tbody>\n",
       "</table>\n",
       "</div>"
      ],
      "text/plain": [
       "                      edad  horas_ejercicio      peso    estres  ingresos  \\\n",
       "edad              1.000000        -0.195928 -0.000361 -0.174863 -0.114863   \n",
       "horas_ejercicio  -0.195928         1.000000 -0.021882 -0.041216 -0.005404   \n",
       "peso             -0.000361        -0.021882  1.000000  0.056342 -0.018638   \n",
       "estres           -0.174863        -0.041216  0.056342  1.000000 -0.079145   \n",
       "ingresos         -0.114863        -0.005404 -0.018638 -0.079145  1.000000   \n",
       "horas_tv          0.139984         0.058045  0.012098 -0.130028 -0.034992   \n",
       "presion_arterial  0.418731        -0.358865  0.588843  0.366368 -0.009394   \n",
       "\n",
       "                  horas_tv  presion_arterial  \n",
       "edad              0.139984          0.418731  \n",
       "horas_ejercicio   0.058045         -0.358865  \n",
       "peso              0.012098          0.588843  \n",
       "estres           -0.130028          0.366368  \n",
       "ingresos         -0.034992         -0.009394  \n",
       "horas_tv          1.000000          0.040789  \n",
       "presion_arterial  0.040789          1.000000  "
      ]
     },
     "execution_count": 4,
     "metadata": {},
     "output_type": "execute_result"
    }
   ],
   "source": [
    "corr = num.corr()\n",
    "corr  # matriz de correlación\n"
   ]
  },
  {
   "cell_type": "code",
   "execution_count": null,
   "id": "305e8792-bee1-482b-8c8b-1d605806fe14",
   "metadata": {
    "id": "305e8792-bee1-482b-8c8b-1d605806fe14",
    "outputId": "62664db0-e6ca-4e24-fbd0-58543af47ff6"
   },
   "outputs": [
    {
     "data": {
      "text/plain": [
       "presion_arterial    1.000000\n",
       "peso                0.588843\n",
       "edad                0.418731\n",
       "estres              0.366368\n",
       "horas_tv            0.040789\n",
       "ingresos           -0.009394\n",
       "horas_ejercicio    -0.358865\n",
       "Name: presion_arterial, dtype: float64"
      ]
     },
     "execution_count": 5,
     "metadata": {},
     "output_type": "execute_result"
    }
   ],
   "source": [
    "corr_target = corr['presion_arterial'].sort_values(ascending=False)\n",
    "corr_target  # de mayor a menor correlación con la variable objetivo\n"
   ]
  },
  {
   "cell_type": "code",
   "execution_count": null,
   "id": "4c5e4803-a99c-4587-975f-6c1980052fe1",
   "metadata": {
    "id": "4c5e4803-a99c-4587-975f-6c1980052fe1",
    "outputId": "5e2c72ee-7560-4f8d-b4b8-5da9acd497d1"
   },
   "outputs": [
    {
     "data": {
      "image/png": "[encoded data removed]",
      "text/plain": [
       "<Figure size 640x480 with 2 Axes>"
      ]
     },
     "metadata": {},
     "output_type": "display_data"
    }
   ],
   "source": [
    "import seaborn as sns\n",
    "import matplotlib.pyplot as plt\n",
    "sns.heatmap(corr, annot=False, cmap='coolwarm', vmin=-1, vmax=1)\n",
    "plt.show()\n"
   ]
  },
  {
   "cell_type": "code",
   "execution_count": null,
   "id": "782a1fc2-e6a1-4e2a-98da-6d2b3c378e68",
   "metadata": {
    "id": "782a1fc2-e6a1-4e2a-98da-6d2b3c378e68",
    "outputId": "c83b3af1-09f4-4da6-93f0-31596f9b39d8"
   },
   "outputs": [
    {
     "name": "stdout",
     "output_type": "stream",
     "text": [
      "Intercepto: -19.895962407050675\n",
      "\n",
      "Métricas del modelo:\n",
      "R²: 0.708\n",
      "RMSE: 10.36\n",
      "MAE: 8.60\n",
      "\n",
      "Coeficientes por variable:\n"
     ]
    },
    {
     "data": {
      "text/html": [
       "<div>\n",
       "<style scoped>\n",
       "    .dataframe tbody tr th:only-of-type {\n",
       "        vertical-align: middle;\n",
       "    }\n",
       "\n",
       "    .dataframe tbody tr th {\n",
       "        vertical-align: top;\n",
       "    }\n",
       "\n",
       "    .dataframe thead th {\n",
       "        text-align: right;\n",
       "    }\n",
       "</style>\n",
       "<table border=\"1\" class=\"dataframe\">\n",
       "  <thead>\n",
       "    <tr style=\"text-align: right;\">\n",
       "      <th></th>\n",
       "      <th>Variable</th>\n",
       "      <th>Coeficiente</th>\n",
       "    </tr>\n",
       "  </thead>\n",
       "  <tbody>\n",
       "    <tr>\n",
       "      <th>0</th>\n",
       "      <td>edad</td>\n",
       "      <td>0.704516</td>\n",
       "    </tr>\n",
       "    <tr>\n",
       "      <th>1</th>\n",
       "      <td>horas_ejercicio</td>\n",
       "      <td>-1.606815</td>\n",
       "    </tr>\n",
       "    <tr>\n",
       "      <th>2</th>\n",
       "      <td>peso</td>\n",
       "      <td>0.796449</td>\n",
       "    </tr>\n",
       "    <tr>\n",
       "      <th>3</th>\n",
       "      <td>estres</td>\n",
       "      <td>3.566095</td>\n",
       "    </tr>\n",
       "    <tr>\n",
       "      <th>4</th>\n",
       "      <td>ingresos</td>\n",
       "      <td>0.000098</td>\n",
       "    </tr>\n",
       "    <tr>\n",
       "      <th>5</th>\n",
       "      <td>horas_tv</td>\n",
       "      <td>0.133066</td>\n",
       "    </tr>\n",
       "  </tbody>\n",
       "</table>\n",
       "</div>"
      ],
      "text/plain": [
       "          Variable  Coeficiente\n",
       "0             edad     0.704516\n",
       "1  horas_ejercicio    -1.606815\n",
       "2             peso     0.796449\n",
       "3           estres     3.566095\n",
       "4         ingresos     0.000098\n",
       "5         horas_tv     0.133066"
      ]
     },
     "metadata": {},
     "output_type": "display_data"
    }
   ],
   "source": [
    "import pandas as pd\n",
    "import numpy as np\n",
    "from sklearn.model_selection import train_test_split\n",
    "from sklearn.linear_model import LinearRegression\n",
    "from sklearn.metrics import r2_score, mean_squared_error, mean_absolute_error\n",
    "\n",
    "# Variables predictoras y target\n",
    "X = df.drop(\"presion_arterial\", axis=1)\n",
    "y = df[\"presion_arterial\"]\n",
    "\n",
    "# División train-test\n",
    "X_train, X_test, y_train, y_test = train_test_split(X, y, test_size=0.2, random_state=42)\n",
    "\n",
    "# Modelo\n",
    "modelo = LinearRegression()\n",
    "modelo.fit(X_train, y_train)\n",
    "y_pred = modelo.predict(X_test)\n",
    "\n",
    "# Métricas\n",
    "r2 = r2_score(y_test, y_pred)\n",
    "rmse = np.sqrt(mean_squared_error(y_test, y_pred))\n",
    "mae = mean_absolute_error(y_test, y_pred)\n",
    "\n",
    "# Resultados en tabla\n",
    "resultados = pd.DataFrame({\n",
    "    \"Variable\": X.columns,\n",
    "    \"Coeficiente\": modelo.coef_\n",
    "})\n",
    "\n",
    "print(\"Intercepto:\", modelo.intercept_)\n",
    "print(\"\\nMétricas del modelo:\")\n",
    "print(f\"R²: {r2:.3f}\")\n",
    "print(f\"RMSE: {rmse:.2f}\")\n",
    "print(f\"MAE: {mae:.2f}\")\n",
    "\n",
    "print(\"\\nCoeficientes por variable:\")\n",
    "display(resultados)\n"
   ]
  },
  {
   "cell_type": "code",
   "execution_count": null,
   "id": "352e0395-3ecc-4ba0-bd78-b9e013c855dd",
   "metadata": {
    "id": "352e0395-3ecc-4ba0-bd78-b9e013c855dd",
    "outputId": "aba0be14-a0c9-458e-df73-810f931b50af"
   },
   "outputs": [
    {
     "name": "stdout",
     "output_type": "stream",
     "text": [
      "Modelo completo:\n",
      "R²: 0.708 | RMSE: 10.36 | MAE: 8.60\n",
      "\n",
      "Modelo simplificado:\n",
      "R²: 0.743 | RMSE: 9.72 | MAE: 8.23\n"
     ]
    }
   ],
   "source": [
    "# Modelo simplificado con las variables más relevantes\n",
    "X_simplificado = df[[\"edad\", \"peso\", \"estres\", \"horas_ejercicio\"]]\n",
    "\n",
    "X_train_s, X_test_s, y_train_s, y_test_s = train_test_split(\n",
    "    X_simplificado, y, test_size=0.2, random_state=42\n",
    ")\n",
    "\n",
    "modelo_s = LinearRegression()\n",
    "modelo_s.fit(X_train_s, y_train_s)\n",
    "y_pred_s = modelo_s.predict(X_test_s)\n",
    "\n",
    "# Métricas\n",
    "r2_s = r2_score(y_test_s, y_pred_s)\n",
    "rmse_s = np.sqrt(mean_squared_error(y_test_s, y_pred_s))\n",
    "mae_s = mean_absolute_error(y_test_s, y_pred_s)\n",
    "\n",
    "print(\"Modelo completo:\")\n",
    "print(f\"R²: {r2:.3f} | RMSE: {rmse:.2f} | MAE: {mae:.2f}\")\n",
    "\n",
    "print(\"\\nModelo simplificado:\")\n",
    "print(f\"R²: {r2_s:.3f} | RMSE: {rmse_s:.2f} | MAE: {mae_s:.2f}\")\n"
   ]
  },
  {
   "cell_type": "code",
   "execution_count": null,
   "id": "4edac44a-5b17-44af-a2da-7161679d3101",
   "metadata": {
    "id": "4edac44a-5b17-44af-a2da-7161679d3101",
    "outputId": "c4a22cf2-6310-45dc-b732-1304a6f64560"
   },
   "outputs": [
    {
     "data": {
      "image/png": "[encoded data removed]",
      "text/plain": [
       "<Figure size 800x500 with 1 Axes>"
      ]
     },
     "metadata": {},
     "output_type": "display_data"
    }
   ],
   "source": [
    "import matplotlib.pyplot as plt\n",
    "\n",
    "# Métricas en un diccionario\n",
    "metricas = {\n",
    "    \"R²\": [r2, r2_s],\n",
    "    \"RMSE\": [rmse, rmse_s],\n",
    "    \"MAE\": [mae, mae_s]\n",
    "}\n",
    "\n",
    "# Convertimos a DataFrame para graficar fácil\n",
    "df_metricas = pd.DataFrame(metricas, index=[\"Completo\", \"Simplificado\"])\n",
    "\n",
    "# Gráfico de barras\n",
    "df_metricas.plot(kind=\"bar\", figsize=(8,5))\n",
    "plt.title(\"Comparación de métricas: Modelo completo vs simplificado\")\n",
    "plt.ylabel(\"Valor\")\n",
    "plt.xticks(rotation=0)\n",
    "plt.legend(title=\"Métrica\")\n",
    "plt.show()\n"
   ]
  },
  {
   "cell_type": "code",
   "execution_count": null,
   "id": "96fedaeb-b8c2-4b17-8912-ceb8f1e780f0",
   "metadata": {
    "id": "96fedaeb-b8c2-4b17-8912-ceb8f1e780f0",
    "outputId": "e6d6d96e-5ce9-4dc2-bdb3-9a613157887f"
   },
   "outputs": [
    {
     "name": "stdout",
     "output_type": "stream",
     "text": [
      "El modelo ajusta adecuadamente: explica ~74% de la variabilidad (R²=0.743), con errores moderados (RMSE≈9.7, MAE≈8.2); las variables más relevantes son estrés, peso, edad y horas de ejercicio, mientras que ingresos y horas de TV no aportan valor.\n"
     ]
    }
   ],
   "source": [
    "print(\"El modelo ajusta adecuadamente: explica ~74% de la variabilidad (R²=0.743), con errores moderados (RMSE≈9.7, MAE≈8.2); las variables más relevantes son estrés, peso, edad y horas de ejercicio, mientras que ingresos y horas de TV no aportan valor.\")\n"
   ]
  },
  {
   "cell_type": "code",
   "execution_count": null,
   "id": "c57a86cc-2e1d-46e6-8e9a-118340bc5b24",
   "metadata": {
    "colab": {
     "base_uri": "https://localhost:8080/"
    },
    "id": "c57a86cc-2e1d-46e6-8e9a-118340bc5b24",
    "outputId": "637b1d80-79ac-4cd9-a8f3-1820b7cd79de"
   },
   "outputs": [
    {
     "name": "stdout",
     "output_type": "stream",
     "text": [
      "El análisis muestra que los factores que realmente influyen en la presión arterial son el estrés, el peso corporal, la edad y las horas de ejercicio. El estrés es el predictor más fuerte y se asocia con un aumento considerable de la presión. El peso y la edad también elevan la presión, mientras que el ejercicio tiene un efecto protector, reduciéndola. En cambio, los ingresos y las horas de televisión no aportan valor explicativo relevante, confirmando que las variables fisiológicas y de estilo de vida son más determinantes que las socioeconómicas en este caso.\n"
     ]
    }
   ],
   "source": [
    "print(\"El análisis muestra que los factores que realmente influyen en la presión arterial son el estrés, el peso corporal, la edad y las horas de ejercicio. El estrés es el predictor más fuerte y se asocia con un aumento considerable de la presión. El peso y la edad también elevan la presión, mientras que el ejercicio tiene un efecto protector, reduciéndola. En cambio, los ingresos y las horas de televisión no aportan valor explicativo relevante, confirmando que las variables fisiológicas y de estilo de vida son más determinantes que las socioeconómicas en este caso.\")\n"
   ]
  },
  {
   "cell_type": "code",
   "execution_count": null,
   "id": "dac23e9d-e8b0-4ed3-92f6-b132f8209d16",
   "metadata": {
    "id": "dac23e9d-e8b0-4ed3-92f6-b132f8209d16"
   },
   "outputs": [],
   "source": []
  }
 ],
 "metadata": {
  "colab": {
   "provenance": []
  },
  "kernelspec": {
   "display_name": "Python 3 (ipykernel)",
   "language": "python",
   "name": "python3"
  },
  "language_info": {
   "codemirror_mode": {
    "name": "ipython",
    "version": 3
   },
   "file_extension": ".py",
   "mimetype": "text/x-python",
   "name": "python",
   "nbconvert_exporter": "python",
   "pygments_lexer": "ipython3",
   "version": "3.13.5"
  }
 },
 "nbformat": 4,
 "nbformat_minor": 5
}
