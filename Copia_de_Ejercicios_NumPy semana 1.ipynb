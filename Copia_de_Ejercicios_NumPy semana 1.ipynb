{
  "cells": [
    {
      "cell_type": "markdown",
      "metadata": {
        "id": "BzD26smYn-eB"
      },
      "source": [
        "# 📘 Ejercicios de Arrays y Matrices con NumPy\n",
        "---Este notebook contiene ejercicios prácticos para trabajar con **arrays y matrices en NumPy**.\n",
        "Completa cada celda de código con la solución correspondiente."
      ],
      "id": "BzD26smYn-eB"
    },
    {
      "cell_type": "markdown",
      "metadata": {
        "id": "TvzhW2ggn-eD"
      },
      "source": [
        "**Ejercicio 1:** Crear un array de 10 elementos con ceros."
      ],
      "id": "TvzhW2ggn-eD"
    },
    {
      "cell_type": "markdown",
      "source": [
        "# Sección nueva"
      ],
      "metadata": {
        "id": "sTOcHX0okF6k"
      },
      "id": "sTOcHX0okF6k"
    },
    {
      "cell_type": "code",
      "metadata": {
        "id": "tDOIpSS3n-eE",
        "colab": {
          "base_uri": "https://localhost:8080/"
        },
        "outputId": "dff369e4-1529-4e1b-8648-bddb99e25ede"
      },
      "execution_count": null,
      "outputs": [
        {
          "output_type": "stream",
          "name": "stdout",
          "text": [
            "[0. 0. 0. 0. 0. 0. 0. 0. 0. 0.]\n"
          ]
        }
      ],
      "source": [
        "import numpy as np\n",
        "\n",
        "arr1 = np.zeros(10)\n",
        "\n",
        "print(arr1)"
      ],
      "id": "tDOIpSS3n-eE"
    },
    {
      "cell_type": "markdown",
      "metadata": {
        "id": "IDC8l6n0n-eE"
      },
      "source": [
        "**Ejercicio 2:** Genera un array con los números del 1 al 20."
      ],
      "id": "IDC8l6n0n-eE"
    },
    {
      "cell_type": "code",
      "source": [],
      "metadata": {
        "id": "d6t83nVHs9WK"
      },
      "id": "d6t83nVHs9WK",
      "execution_count": null,
      "outputs": []
    },
    {
      "cell_type": "code",
      "metadata": {
        "id": "RpjOcgBGn-eE",
        "colab": {
          "base_uri": "https://localhost:8080/"
        },
        "outputId": "5c34f7ea-7e73-43f0-86c4-c1a04fefb072"
      },
      "execution_count": null,
      "outputs": [
        {
          "output_type": "stream",
          "name": "stdout",
          "text": [
            "[ 1  2  3  4  5  6  7  8  9 10 11 12 13 14 15 16 17 18 19 20]\n"
          ]
        }
      ],
      "source": [
        "# Tu código aquí\n",
        "arr2 = np.arange(1, 21)\n",
        "print(arr2)\n"
      ],
      "id": "RpjOcgBGn-eE"
    },
    {
      "cell_type": "markdown",
      "metadata": {
        "id": "75D0cqnYn-eF"
      },
      "source": [
        "**Ejercicio 3:** Crea un array con los números pares del 2 al 50."
      ],
      "id": "75D0cqnYn-eF"
    },
    {
      "cell_type": "code",
      "metadata": {
        "id": "gYmAr3YBn-eF",
        "colab": {
          "base_uri": "https://localhost:8080/"
        },
        "outputId": "72aa8191-6a57-475c-cfaf-afabe5c69441"
      },
      "execution_count": null,
      "outputs": [
        {
          "output_type": "stream",
          "name": "stdout",
          "text": [
            "[ 2  4  6  8 10 12 14 16 18 20 22 24 26 28 30 32 34 36 38 40 42 44 46 48\n",
            " 50]\n"
          ]
        }
      ],
      "source": [
        "# Tu código aquí\n",
        "arr3 = np.arange(2, 51, 2)\n",
        "print(arr3)"
      ],
      "id": "gYmAr3YBn-eF"
    },
    {
      "cell_type": "markdown",
      "metadata": {
        "id": "ntQXOuQLn-eF"
      },
      "source": [
        "**Ejercicio 4:** Genera un array de tamaño 8 donde todos los valores sean 7."
      ],
      "id": "ntQXOuQLn-eF"
    },
    {
      "cell_type": "code",
      "metadata": {
        "id": "5_6lXuV6n-eF",
        "colab": {
          "base_uri": "https://localhost:8080/"
        },
        "outputId": "779ed847-ab51-48a3-9884-a4445318bde2"
      },
      "execution_count": null,
      "outputs": [
        {
          "output_type": "stream",
          "name": "stdout",
          "text": [
            "[7 7 7 7 7 7 7 7]\n"
          ]
        }
      ],
      "source": [
        "# Tu código aquí\n",
        "arr4 = np.full(8, 7)\n",
        "print(arr4)"
      ],
      "id": "5_6lXuV6n-eF"
    },
    {
      "cell_type": "markdown",
      "metadata": {
        "id": "gemNufW4n-eG"
      },
      "source": [
        "**Ejercicio 5:** Crea una matriz de 4x4 con valores aleatorios entre 0 y 1."
      ],
      "id": "gemNufW4n-eG"
    },
    {
      "cell_type": "code",
      "metadata": {
        "id": "YrEckgHAn-eG",
        "colab": {
          "base_uri": "https://localhost:8080/"
        },
        "outputId": "de4ca520-61f1-4aba-c97a-00ad5326e6e5"
      },
      "execution_count": null,
      "outputs": [
        {
          "output_type": "stream",
          "name": "stdout",
          "text": [
            "[[0.55487988 0.71141492 0.52410883 0.12654164]\n",
            " [0.32027353 0.85836939 0.4172854  0.54459283]\n",
            " [0.24067396 0.02413309 0.25343954 0.33824959]\n",
            " [0.86964696 0.6645967  0.67317847 0.09693485]]\n"
          ]
        }
      ],
      "source": [
        "# Tu código aquí\n",
        "arr5 = np.random.rand(4,4)\n",
        "print(arr5)"
      ],
      "id": "YrEckgHAn-eG"
    },
    {
      "cell_type": "markdown",
      "metadata": {
        "id": "kSrnavbRn-eG"
      },
      "source": [
        "**Ejercicio 6:** Realiza la suma elemento a elemento de los arrays a=[1,2,3], b=[4,5,6]."
      ],
      "id": "kSrnavbRn-eG"
    },
    {
      "cell_type": "code",
      "metadata": {
        "id": "HDPosal1n-eG",
        "colab": {
          "base_uri": "https://localhost:8080/"
        },
        "outputId": "fd53d54d-357b-4745-a4fb-0c7dfe9bcb0b"
      },
      "execution_count": null,
      "outputs": [
        {
          "output_type": "stream",
          "name": "stdout",
          "text": [
            "[5 7 9]\n"
          ]
        }
      ],
      "source": [
        "a = np.array([1,2,3])\n",
        "b = np.array([4,5,6])\n",
        "# Tu código aquí\n",
        "suma = a + b\n",
        "print(suma)\n"
      ],
      "id": "HDPosal1n-eG"
    },
    {
      "cell_type": "markdown",
      "metadata": {
        "id": "THsaYTsMn-eG"
      },
      "source": [
        "**Ejercicio 7:** Multiplica dos matrices 3x3 de enteros aleatorios entre 1 y 10."
      ],
      "id": "THsaYTsMn-eG"
    },
    {
      "cell_type": "code",
      "metadata": {
        "id": "bc3mWo4un-eG",
        "colab": {
          "base_uri": "https://localhost:8080/"
        },
        "outputId": "acaaea60-201c-423e-c8b7-0f37a41a557f"
      },
      "execution_count": null,
      "outputs": [
        {
          "output_type": "stream",
          "name": "stdout",
          "text": [
            "Matriz A:\n",
            " [[ 5 10 10]\n",
            " [ 8  9  5]\n",
            " [ 2  3  9]]\n",
            "Matriz B:\n",
            " [[9 6 7]\n",
            " [2 4 6]\n",
            " [5 8 9]]\n",
            "Resultado de A x B:\n",
            " [[115 150 185]\n",
            " [115 124 155]\n",
            " [ 69  96 113]]\n"
          ]
        }
      ],
      "source": [
        "# Tu código aquí\n",
        "A = np.random.randint(1, 11, (3,3))\n",
        "B = np.random.randint(1, 11, (3,3))\n",
        "print(\"Matriz A:\\n\", A)\n",
        "print(\"Matriz B:\\n\", B)\n",
        "\n",
        "# Multiplicación matricial\n",
        "C = A @ B   # también podés usar: np.dot(A, B)\n",
        "print(\"Resultado de A x B:\\n\", C)"
      ],
      "id": "bc3mWo4un-eG"
    },
    {
      "cell_type": "markdown",
      "metadata": {
        "id": "mw4_OLlUn-eG"
      },
      "source": [
        "**Ejercicio 8:** Crea un array de 15 valores aleatorios entre 1 y 100 e imprime su máximo, mínimo y promedio."
      ],
      "id": "mw4_OLlUn-eG"
    },
    {
      "cell_type": "code",
      "metadata": {
        "id": "zLb9M5apn-eG",
        "colab": {
          "base_uri": "https://localhost:8080/"
        },
        "outputId": "3b3b1d50-9c65-4a64-ca0c-1b096bb77ba4"
      },
      "execution_count": null,
      "outputs": [
        {
          "output_type": "stream",
          "name": "stdout",
          "text": [
            "Array generado:\n",
            " [73 53 78 73 58 10 90 35  9 74 77 89 56 72 46]\n",
            "Máximo: 90\n",
            "Mínimo: 9\n",
            "Promedio: 59.53333333333333\n"
          ]
        }
      ],
      "source": [
        "# Tu código aquí\n",
        "arr8 = np.random.randint(1, 101, 15)\n",
        "print(\"Array generado:\\n\", arr8)\n",
        "\n",
        "print(\"Máximo:\", arr8.max())\n",
        "print(\"Mínimo:\", arr8.min())\n",
        "print(\"Promedio:\", arr8.mean())\n"
      ],
      "id": "zLb9M5apn-eG"
    },
    {
      "cell_type": "markdown",
      "metadata": {
        "id": "kSNsCQAmn-eG"
      },
      "source": [
        "**Ejercicio 9:** Genera una matriz 5x5 con valores del 1 al 25 y extrae su diagonal."
      ],
      "id": "kSNsCQAmn-eG"
    },
    {
      "cell_type": "code",
      "metadata": {
        "id": "sZj-Ezb8n-eG",
        "colab": {
          "base_uri": "https://localhost:8080/"
        },
        "outputId": "0025fc8e-cf6f-498d-bfb0-574c196f7899"
      },
      "execution_count": null,
      "outputs": [
        {
          "output_type": "stream",
          "name": "stdout",
          "text": [
            "Matriz 5x5:\n",
            " [[ 1  2  3  4  5]\n",
            " [ 6  7  8  9 10]\n",
            " [11 12 13 14 15]\n",
            " [16 17 18 19 20]\n",
            " [21 22 23 24 25]]\n",
            "Diagonal de la matriz: [ 1  7 13 19 25]\n"
          ]
        }
      ],
      "source": [
        "# Tu código aquí\n",
        "arr9 = np.arange(1, 26).reshape(5, 5)\n",
        "print(\"Matriz 5x5:\\n\", arr9)\n",
        "\n",
        "diagonal = np.diag(arr9)\n",
        "print(\"Diagonal de la matriz:\", diagonal)"
      ],
      "id": "sZj-Ezb8n-eG"
    },
    {
      "cell_type": "markdown",
      "metadata": {
        "id": "6Mid86XOn-eH"
      },
      "source": [
        "**Ejercicio 10\n",
        ":** Dada una matriz 5x5 de enteros aleatorios entre 1 y 20, calcula la suma de cada fila y columna."
      ],
      "id": "6Mid86XOn-eH"
    },
    {
      "cell_type": "code",
      "metadata": {
        "id": "KUccoVRKn-eH",
        "colab": {
          "base_uri": "https://localhost:8080/"
        },
        "outputId": "30d96fc4-aa66-49e6-c0ad-f12ff14727b4"
      },
      "execution_count": null,
      "outputs": [
        {
          "output_type": "stream",
          "name": "stdout",
          "text": [
            "Matriz 5x5:\n",
            " [[ 1 11 19 16  9]\n",
            " [ 4  1 15 17  1]\n",
            " [17 20  3 16 20]\n",
            " [12  7 12 12 19]\n",
            " [19  6 17 17  4]]\n",
            "Suma de cada fila: [56 38 76 62 63]\n",
            "Suma de cada columna: [53 45 66 78 53]\n"
          ]
        }
      ],
      "source": [
        "# Tu código aquí\n",
        "arr10 = np.random.randint(1, 21, (5,5))\n",
        "print(\"Matriz 5x5:\\n\", arr10)\n",
        "\n",
        "suma_filas = arr10.sum(axis=1)\n",
        "print(\"Suma de cada fila:\", suma_filas)\n",
        "\n",
        "suma_columnas = arr10.sum(axis=0)\n",
        "print(\"Suma de cada columna:\", suma_columnas)"
      ],
      "id": "KUccoVRKn-eH"
    }
  ],
  "metadata": {
    "kernelspec": {
      "display_name": "Python 3",
      "language": "python",
      "name": "python3"
    },
    "language_info": {
      "name": "python",
      "version": "3.11"
    },
    "colab": {
      "provenance": []
    }
  },
  "nbformat": 4,
  "nbformat_minor": 5
}